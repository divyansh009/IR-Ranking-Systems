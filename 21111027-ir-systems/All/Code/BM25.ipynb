{
 "cells": [
  {
   "cell_type": "code",
   "execution_count": 31,
   "id": "a7737ebf",
   "metadata": {},
   "outputs": [],
   "source": [
    "#Importing all the necessary packages required for pre-processing:\n",
    "import numpy as np #Used for array operations\n",
    "import nltk #Used as a basic package for nlp operations\n",
    "from nltk.corpus import stopwords #Helps in stop words removal\n",
    "from nltk.stem import WordNetLemmatizer #Helps in lemmatization process\n",
    "from nltk.stem import PorterStemmer #Helps in stemming process\n",
    "#Helps in tokenization of words:\n",
    "from nltk.tokenize import word_tokenize \n",
    "from nltk.tokenize import sent_tokenize\n",
    "import math #Used for mathematical equations solving\n",
    "import pickle #Used to dump files to memory so, that we don't need to train model again anad again for a long time.\n",
    "import os #Used to iterate files in the local system\n",
    "import glob #Used for identifying paths in local system\n",
    "import re #Used for removal of non-ascii characters\n",
    "import sys #Used to manipulate different parts of the Python runtime environment\n",
    "from pathlib import Path #Makes it very easy and efficient to deal with file paths\n",
    "from collections import Counter #Used for carrying out frequency count"
   ]
  },
  {
   "cell_type": "code",
   "execution_count": 32,
   "id": "48aeabfe",
   "metadata": {},
   "outputs": [],
   "source": [
    "stop=set(stopwords.words('english')) #Storing all stop words in a set data structure\n",
    "ps=PorterStemmer() #Creating object of PorterStemmer"
   ]
  },
  {
   "cell_type": "code",
   "execution_count": 33,
   "id": "aa53f971",
   "metadata": {},
   "outputs": [],
   "source": [
    "#Defining some functions that we'll use in future:\n",
    "def remove_non_ascii_characters(data):\n",
    "    pattern=re.compile('[^a-zA-Z0-9\\s]')\n",
    "    out=re.sub(pattern,'',data)\n",
    "    return out"
   ]
  },
  {
   "cell_type": "code",
   "execution_count": 34,
   "id": "c90b89b3",
   "metadata": {},
   "outputs": [],
   "source": [
    "#Opening the saved posting_list pickle file:\n",
    "with open('../Saved/posting_list.pkl','rb') as file:\n",
    "    tf=pickle.load(file)\n",
    "    file.close()"
   ]
  },
  {
   "cell_type": "code",
   "execution_count": null,
   "id": "a516e34e",
   "metadata": {},
   "outputs": [],
   "source": [
    "#Opening the saved doc_len pickle file:\n",
    "with open('../Saved/doc_len.pkl','rb') as file:\n",
    "    doc_len=pickle.load(file)\n",
    "    file.close()"
   ]
  },
  {
   "cell_type": "code",
   "execution_count": null,
   "id": "0d10e1ad",
   "metadata": {},
   "outputs": [],
   "source": [
    "#Opening the saved file_idx pickle file:\n",
    "with open('../Saved/file_idx.pkl','rb') as file:\n",
    "    file_idx=pickle.load(file)\n",
    "    file.close()"
   ]
  },
  {
   "cell_type": "code",
   "execution_count": null,
   "id": "107943a6",
   "metadata": {},
   "outputs": [],
   "source": [
    "#Opening the saved df pickle file:    \n",
    "with open('../Saved/df.pkl','rb') as file:\n",
    "    DF=pickle.load(file)\n",
    "    file.close()"
   ]
  },
  {
   "cell_type": "code",
   "execution_count": 35,
   "id": "d7ba7d37",
   "metadata": {},
   "outputs": [],
   "source": [
    "Ld=doc_len\n",
    "N=len(file_idx)\n",
    "k=0\n",
    "for i in Ld:\n",
    "    k+=Ld[i]\n",
    "Lavg=k/N"
   ]
  },
  {
   "cell_type": "code",
   "execution_count": 36,
   "id": "a31d735d",
   "metadata": {},
   "outputs": [],
   "source": [
    "def IDF(q):\n",
    "    DF1=0\n",
    "    if q in DF:\n",
    "        DF1=DF[q]\n",
    "    ans=math.log((N-DF1+0.5)/(DF1+0.5))\n",
    "    return ans"
   ]
  },
  {
   "cell_type": "code",
   "execution_count": null,
   "id": "aebd8237",
   "metadata": {},
   "outputs": [],
   "source": [
    "def score_doc(q):\n",
    "    q = remove_non_ascii_characters(q)\n",
    "    q = re.sub(re.compile('\\d'),'',q)\n",
    "    words = word_tokenize(q)\n",
    "    words = [word.lower() for word in words]\n",
    "    words=[ps.stem(word) for word in words]\n",
    "    words=[word for word in words if word not in stop]\n",
    "    print(words)\n",
    "    for i in range(len(file_idx)):\n",
    "        score[i]=0\n",
    "        for qi in words:\n",
    "            TF=0\n",
    "            if qi in tf:\n",
    "                if i in tf[qi]:\n",
    "                    TF=tf[qi][i]\n",
    "            idf=IDF(qi)\n",
    "            ans=idf*(k+1)*TF/(TF+k*(1-b+b*(Ld[i]/Lavg)))\n",
    "            score[i]+=ans"
   ]
  },
  {
   "cell_type": "code",
   "execution_count": null,
   "id": "8deae9dd",
   "metadata": {},
   "outputs": [],
   "source": [
    "k=1.2\n",
    "b=0.75"
   ]
  },
  {
   "cell_type": "code",
   "execution_count": 116,
   "id": "997db5de",
   "metadata": {},
   "outputs": [
    {
     "name": "stdout",
     "output_type": "stream",
     "text": [
      "Enter your query: orthopedic surgery\n",
      "['orthoped', 'surgeri']\n",
      "D00476.txt 16.034864451178553\n",
      "D00836.txt 13.839467687636677\n",
      "D00929.txt 12.551257346405553\n",
      "D00756.txt 12.547539572700305\n",
      "D00936.txt 11.967838403022554\n",
      "D00519.txt 11.7530614660003\n",
      "D00645.txt 11.491069873356484\n",
      "D00794.txt 11.249665387276869\n",
      "D00563.txt 11.113045536989869\n",
      "S00647.txt 11.112879327185302\n"
     ]
    }
   ],
   "source": [
    "query=input(\"Enter your query: \")\n",
    "score={}\n",
    "for i in range(len(file_idx)):\n",
    "    score[i]=0\n",
    "score_doc(query)\n",
    "score=sorted(score.items(),key=lambda item: item[1],reverse=True)\n",
    "# print(score)\n",
    "count = 10\n",
    "for i in score:\n",
    "    if count == 0:\n",
    "        break\n",
    "    print(file_idx[i[0]],i[1])\n",
    "    count-=1"
   ]
  },
  {
   "cell_type": "code",
   "execution_count": null,
   "id": "d2c3455f",
   "metadata": {},
   "outputs": [],
   "source": []
  },
  {
   "cell_type": "code",
   "execution_count": null,
   "id": "56333cae",
   "metadata": {},
   "outputs": [],
   "source": []
  }
 ],
 "metadata": {
  "kernelspec": {
   "display_name": "Python 3",
   "language": "python",
   "name": "python3"
  },
  "language_info": {
   "codemirror_mode": {
    "name": "ipython",
    "version": 3
   },
   "file_extension": ".py",
   "mimetype": "text/x-python",
   "name": "python",
   "nbconvert_exporter": "python",
   "pygments_lexer": "ipython3",
   "version": "3.6.8"
  }
 },
 "nbformat": 4,
 "nbformat_minor": 5
}
