{
 "cells": [
  {
   "cell_type": "code",
   "execution_count": 1,
   "id": "20587a09",
   "metadata": {},
   "outputs": [],
   "source": [
    "#Importing all the necessary packages required for pre-processing:\n",
    "import numpy as np #Used for array operations\n",
    "import nltk #Used as a basic package for nlp operations\n",
    "from nltk.corpus import stopwords #Helps in stop words removal\n",
    "from nltk.stem import WordNetLemmatizer #Helps in lemmatization process\n",
    "from nltk.stem import PorterStemmer #Helps in stemming process\n",
    "#Helps in tokenization of words:\n",
    "from nltk.tokenize import word_tokenize \n",
    "from nltk.tokenize import sent_tokenize\n",
    "import math #Used for mathematical equations solving\n",
    "import pickle #Used to dump files to memory so, that we don't need to train model again anad again for a long time.\n",
    "import os #Used to iterate files in the local system\n",
    "import glob #Used for identifying paths in local system\n",
    "import re #Used for removal of non-ascii characters\n",
    "import sys #Used to manipulate different parts of the Python runtime environment\n",
    "from pathlib import Path #Makes it very easy and efficient to deal with file paths\n",
    "from collections import Counter #Used for carrying out frequency count"
   ]
  },
  {
   "cell_type": "code",
   "execution_count": 2,
   "id": "f196d9f6",
   "metadata": {},
   "outputs": [],
   "source": [
    "stop=set(stopwords.words('english')) #Storing all stop words in a set data structure\n",
    "ps=PorterStemmer() #Creating object of PorterStemmer"
   ]
  },
  {
   "cell_type": "code",
   "execution_count": 3,
   "id": "4db307e0",
   "metadata": {},
   "outputs": [],
   "source": [
    "def remove_special_characters(text):\n",
    "    regex = re.compile('[^a-zA-Z0-9\\s]')\n",
    "    text_returned = re.sub(regex,'',text)\n",
    "    return text_returned"
   ]
  },
  {
   "cell_type": "code",
   "execution_count": 4,
   "id": "531bcbc5",
   "metadata": {},
   "outputs": [],
   "source": [
    "with open('Saved/df.pkl','rb') as file:\n",
    "    DF=pickle.load(file)\n",
    "    file.close()\n",
    "    \n",
    "with open('Saved/file_idx.pkl','rb') as file:\n",
    "    file_idx=pickle.load(file)\n",
    "    file.close()\n",
    "    \n",
    "with open('Saved/doc_words.pkl','rb') as file:\n",
    "    doc_words=pickle.load(file)\n",
    "    file.close()\n",
    "    \n",
    "with open('Saved/doc_norm.pkl','rb') as file:\n",
    "    doc_norm=pickle.load(file)\n",
    "    file.close()"
   ]
  },
  {
   "cell_type": "code",
   "execution_count": 5,
   "id": "0f74649a",
   "metadata": {},
   "outputs": [
    {
     "name": "stdout",
     "output_type": "stream",
     "text": [
      "Enter your query: larry page google alphabet\n"
     ]
    }
   ],
   "source": [
    "query=input(\"Enter your query: \")\n",
    "text = remove_special_characters(query)\n",
    "text = re.sub(re.compile('\\d'),'',text)\n",
    "words = word_tokenize(text)\n",
    "words = [word.lower() for word in words]\n",
    "words=[ps.stem(word) for word in words]\n",
    "words=[word for word in words if word not in stop]\n",
    "words=[word for word in words if word in DF.keys()]\n",
    "\n",
    "q=[]\n",
    "q_norm=0\n",
    "for w in words:\n",
    "    tf_idf=(words.count(w)*math.log(len(file_idx)/DF[w]))\n",
    "    q.append(tf_idf)\n",
    "    q_norm+=tf_idf**2\n",
    "q_norm=math.sqrt(q_norm)\n",
    "\n",
    "q=np.array(q)/q_norm\n",
    "\n",
    "score={}\n",
    "\n",
    "for i in range(len(file_idx)):\n",
    "    doc_v=[]\n",
    "    for w in words:\n",
    "        tf_idf=(doc_words[i].count(w)*math.log(len(file_idx)/DF[w]))\n",
    "        doc_v.append(tf_idf)\n",
    "    doc_v=np.array(doc_v)/doc_norm[i]\n",
    "    score[i]=np.dot(q,doc_v)\n",
    "\n",
    "score=sorted(score.items(),key=lambda x:x[1],reverse=True)"
   ]
  },
  {
   "cell_type": "code",
   "execution_count": 6,
   "id": "b7f7b066",
   "metadata": {},
   "outputs": [
    {
     "name": "stdout",
     "output_type": "stream",
     "text": [
      "C00015.txt 0.5873716655876039\n",
      "C00030.txt 0.42034933480134573\n",
      "S00003.txt 0.3521695858361733\n",
      "C00743.txt 0.3312814065057928\n",
      "S00407.txt 0.2957392263623343\n",
      "C00021.txt 0.2436896868529823\n",
      "C00296.txt 0.22124679753061677\n",
      "C00551.txt 0.17546457495200968\n",
      "L00170.txt 0.1564763606757528\n",
      "C00762.txt 0.1553741406401471\n"
     ]
    }
   ],
   "source": [
    "count = 10\n",
    "for i in score:\n",
    "    if count == 0:\n",
    "        break\n",
    "    print(file_idx[i[0]],i[1])\n",
    "    count-=1"
   ]
  },
  {
   "cell_type": "code",
   "execution_count": null,
   "id": "d0f5a56d",
   "metadata": {},
   "outputs": [],
   "source": []
  },
  {
   "cell_type": "code",
   "execution_count": null,
   "id": "b19ec429",
   "metadata": {},
   "outputs": [],
   "source": []
  }
 ],
 "metadata": {
  "kernelspec": {
   "display_name": "Python 3",
   "language": "python",
   "name": "python3"
  },
  "language_info": {
   "codemirror_mode": {
    "name": "ipython",
    "version": 3
   },
   "file_extension": ".py",
   "mimetype": "text/x-python",
   "name": "python",
   "nbconvert_exporter": "python",
   "pygments_lexer": "ipython3",
   "version": "3.6.8"
  }
 },
 "nbformat": 4,
 "nbformat_minor": 5
}
