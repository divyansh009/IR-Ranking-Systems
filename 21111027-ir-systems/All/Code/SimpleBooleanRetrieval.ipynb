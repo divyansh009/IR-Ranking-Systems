{
 "cells": [
  {
   "cell_type": "code",
   "execution_count": 2,
   "id": "e50e107e",
   "metadata": {},
   "outputs": [],
   "source": [
    "#Importing all the necessary packages required for pre-processing:\n",
    "import numpy as np #Used for array operations\n",
    "import nltk #Used as a basic package for nlp operations\n",
    "from nltk.corpus import stopwords #Helps in stop words removal\n",
    "from nltk.stem import WordNetLemmatizer #Helps in lemmatization process\n",
    "from nltk.stem import PorterStemmer #Helps in stemming process\n",
    "#Helps in tokenization of words:\n",
    "from nltk.tokenize import word_tokenize \n",
    "from nltk.tokenize import sent_tokenize\n",
    "import math #Used for mathematical equations solving\n",
    "import pickle #Used to dump files to memory so, that we don't need to train model again anad again for a long time.\n",
    "import os #Used to iterate files in the local system\n",
    "import glob #Used for identifying paths in local system\n",
    "import re #Used for removal of non-ascii characters\n",
    "import sys #Used to manipulate different parts of the Python runtime environment\n",
    "from pathlib import Path #Makes it very easy and efficient to deal with file paths\n",
    "from collections import Counter #Used for carrying out frequency count"
   ]
  },
  {
   "cell_type": "code",
   "execution_count": 3,
   "id": "842b859d",
   "metadata": {},
   "outputs": [],
   "source": [
    "stop=set(stopwords.words('english')) #Storing all stop words in a set data structure\n",
    "ps=PorterStemmer() #Creating object of PorterStemmer"
   ]
  },
  {
   "cell_type": "code",
   "execution_count": 4,
   "id": "a4463ab8",
   "metadata": {},
   "outputs": [],
   "source": [
    "#Loading pickle file and saving it as a variable:\n",
    "temp=open('Saved/posting_list.pkl',\"rb\")\n",
    "posting_lists=pickle.load(temp)\n",
    "\n",
    "#Loading pickle file and saving it as a variable:\n",
    "temp=open('Saved/file_idx.pkl','rb')\n",
    "file_index=pickle.load(temp)"
   ]
  },
  {
   "cell_type": "code",
   "execution_count": 5,
   "id": "3145a477",
   "metadata": {},
   "outputs": [],
   "source": [
    "unique_words=set(posting_lists.keys()) #The keys of posting_list are stored in the set to get unique words existing"
   ]
  },
  {
   "cell_type": "code",
   "execution_count": 6,
   "id": "11dc9138",
   "metadata": {},
   "outputs": [],
   "source": [
    "#Defining some functions that we'll use in future:\n",
    "def remove_non_ascii_characters(data):\n",
    "    pattern=re.compile('[^a-zA-Z0-9\\s]')\n",
    "    out=re.sub(pattern,'',data)\n",
    "    return out\n",
    "\n",
    "#stemming/Lemmatize\n",
    "def doStemming(words):\n",
    "    from nltk.stem import PorterStemmer\n",
    "    ps=PorterStemmer()\n",
    "    \n",
    "    stem_list=[ps.stem(w) for w in words]\n",
    "    return stem_list\n",
    "\n",
    "def removeStopWords(words):\n",
    "    from nltk.corpus import stopwords\n",
    "    stop_words=set(stopwords.words('english'))\n",
    "    word_list=[]\n",
    "    for w in words:\n",
    "        if w==\"and\" or w==\"or\" or (w not in stop_words):\n",
    "            word_list.append(w)\n",
    "    return word_list\n",
    "\n",
    "def convertToLower(text):\n",
    "    return str(np.char.lower(text))\n",
    "\n",
    "def numToWords(words):\n",
    "    for i,w in enumerate(words):\n",
    "        if w.isdigit() and len(w)<4:\n",
    "            words[i]=num2words(int(w))\n",
    "    return words"
   ]
  },
  {
   "cell_type": "code",
   "execution_count": 7,
   "id": "2afb187e",
   "metadata": {},
   "outputs": [
    {
     "name": "stdout",
     "output_type": "stream",
     "text": [
      "Enter your query: shift register flip flop\n",
      "['shift', 'regist', 'flip', 'flop']\n"
     ]
    }
   ],
   "source": [
    "#Taking input query from user and storing it as a variable. \n",
    "query=input(\"Enter your query: \")\n",
    "\n",
    "data = remove_non_ascii_characters(query) #Removing special characters\n",
    "data = re.sub(re.compile('\\d'),'',data)\n",
    "words = word_tokenize(data) #Tokenization \n",
    "words = [word.lower() for word in words] #Lower casing\n",
    "words = [ps.stem(word) for word in words] #Stemming\n",
    "words = [word for word in words if word not in stop] #Stop words removal\n",
    "\n",
    "print(words) #print the words"
   ]
  },
  {
   "cell_type": "code",
   "execution_count": 8,
   "id": "d005775b",
   "metadata": {},
   "outputs": [
    {
     "name": "stdout",
     "output_type": "stream",
     "text": [
      "['shift', 'and', 'regist', 'and', 'flip', 'and', 'flop']\n"
     ]
    }
   ],
   "source": [
    "if len(words)>1:\n",
    "    query_words=[words[0]]\n",
    "else:\n",
    "    query_words=words\n",
    "\n",
    "for i in range(1,len(words)):\n",
    "    if words[i] not in [\"and\",\"or\"]:\n",
    "        if query_words[-1] not in [\"and\",\"or\"]:\n",
    "            query_words.append(\"and\")\n",
    "            query_words.append(words[i])\n",
    "        else:\n",
    "            query_words.append(words[i])\n",
    "    elif query_words[-1] not in [\"and\",\"or\"]:\n",
    "        query_words.append(words[i])\n",
    "\n",
    "print(query_words)"
   ]
  },
  {
   "cell_type": "code",
   "execution_count": 9,
   "id": "c428f55d",
   "metadata": {},
   "outputs": [
    {
     "name": "stdout",
     "output_type": "stream",
     "text": [
      "['and', 'and', 'and']\n",
      "['shift', 'regist', 'flip', 'flop']\n"
     ]
    }
   ],
   "source": [
    "operators=[]\n",
    "main_words=[]\n",
    "\n",
    "for w in query_words:\n",
    "    if w.lower() in [\"and\",\"or\"]:\n",
    "        operators.append(w.lower())\n",
    "    else:\n",
    "        main_words.append(w)\n",
    "    \n",
    "print(operators)\n",
    "print(main_words)"
   ]
  },
  {
   "cell_type": "code",
   "execution_count": 10,
   "id": "91aea5a8",
   "metadata": {},
   "outputs": [],
   "source": [
    "n=len(file_index)\n",
    "word_vector=[]\n",
    "word_vector_matrix=[]\n",
    "\n",
    "for w in main_words:\n",
    "    word_vector=[0]*n\n",
    "    if w in unique_words:\n",
    "        for x in posting_lists[w].keys():\n",
    "            word_vector[x]=1\n",
    "    word_vector_matrix.append(word_vector)"
   ]
  },
  {
   "cell_type": "code",
   "execution_count": 11,
   "id": "68c6d3b9",
   "metadata": {},
   "outputs": [],
   "source": [
    "for w in operators:\n",
    "    vector1=word_vector_matrix[0]\n",
    "    vector2=word_vector_matrix[1]\n",
    "    \n",
    "    if w==\"and\":\n",
    "        result=[b1&b2 for b1,b2 in zip(vector1,vector2)]\n",
    "        \n",
    "        word_vector_matrix.pop(0)\n",
    "        word_vector_matrix.pop(0)\n",
    "        \n",
    "        word_vector_matrix.insert(0,result)\n",
    "    else:\n",
    "        result=[b1|b2 for b1,b2 in zip(vector1,vector2)]\n",
    "        \n",
    "        word_vector_matrix.pop(0)\n",
    "        word_vector_matrix.pop(0)\n",
    "        \n",
    "        word_vector_matrix.insert(0,result)"
   ]
  },
  {
   "cell_type": "code",
   "execution_count": 12,
   "id": "c51ddef1",
   "metadata": {},
   "outputs": [],
   "source": [
    "final_word_vector=word_vector_matrix[0]\n",
    "cnt=0\n",
    "files=[]\n",
    "for i in final_word_vector:\n",
    "    if i==1:\n",
    "        files.append(file_index[cnt])\n",
    "    cnt+=1"
   ]
  },
  {
   "cell_type": "code",
   "execution_count": 13,
   "id": "294e99b6",
   "metadata": {
    "scrolled": false
   },
   "outputs": [
    {
     "data": {
      "text/plain": [
       "['C00105.txt', 'C00723.txt']"
      ]
     },
     "execution_count": 13,
     "metadata": {},
     "output_type": "execute_result"
    }
   ],
   "source": [
    "files"
   ]
  },
  {
   "cell_type": "code",
   "execution_count": null,
   "id": "aed31fea",
   "metadata": {},
   "outputs": [],
   "source": []
  }
 ],
 "metadata": {
  "kernelspec": {
   "display_name": "Python 3",
   "language": "python",
   "name": "python3"
  },
  "language_info": {
   "codemirror_mode": {
    "name": "ipython",
    "version": 3
   },
   "file_extension": ".py",
   "mimetype": "text/x-python",
   "name": "python",
   "nbconvert_exporter": "python",
   "pygments_lexer": "ipython3",
   "version": "3.6.8"
  }
 },
 "nbformat": 4,
 "nbformat_minor": 5
}
